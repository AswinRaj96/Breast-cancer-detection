{
  "nbformat": 4,
  "nbformat_minor": 0,
  "metadata": {
    "kernelspec": {
      "display_name": "Python 3",
      "language": "python",
      "name": "python3"
    },
    "language_info": {
      "codemirror_mode": {
        "name": "ipython",
        "version": 3
      },
      "file_extension": ".py",
      "mimetype": "text/x-python",
      "name": "python",
      "nbconvert_exporter": "python",
      "pygments_lexer": "ipython3",
      "version": "3.7.4"
    },
    "colab": {
      "name": "Breast Cancer detection .ipynb",
      "provenance": [],
      "collapsed_sections": []
    }
  },
  "cells": [
    {
      "cell_type": "markdown",
      "metadata": {
        "id": "yYlo7mIXyZFe"
      },
      "source": [
        "# Breast Cancer detection "
      ]
    },
    {
      "cell_type": "code",
      "metadata": {
        "id": "YFo8KVcryZFe"
      },
      "source": [
        "from sklearn.datasets import load_breast_cancer\n",
        "\n",
        "#importing the dataset\n",
        "dataset = load_breast_cancer()"
      ],
      "execution_count": null,
      "outputs": []
    },
    {
      "cell_type": "markdown",
      "metadata": {
        "id": "gOGmwyQNyZFh"
      },
      "source": [
        "## Part 1: Getting started"
      ]
    },
    {
      "cell_type": "code",
      "source": [
        "#printing the dataset\n",
        "dataset"
      ],
      "metadata": {
        "id": "dHQ_QW9s3502",
        "colab": {
          "base_uri": "https://localhost:8080/"
        },
        "outputId": "7bd816d1-3642-4bd0-a50f-0d345f1b1724"
      },
      "execution_count": null,
      "outputs": [
        {
          "output_type": "execute_result",
          "data": {
            "text/plain": [
              "{'DESCR': '.. _breast_cancer_dataset:\\n\\nBreast cancer wisconsin (diagnostic) dataset\\n--------------------------------------------\\n\\n**Data Set Characteristics:**\\n\\n    :Number of Instances: 569\\n\\n    :Number of Attributes: 30 numeric, predictive attributes and the class\\n\\n    :Attribute Information:\\n        - radius (mean of distances from center to points on the perimeter)\\n        - texture (standard deviation of gray-scale values)\\n        - perimeter\\n        - area\\n        - smoothness (local variation in radius lengths)\\n        - compactness (perimeter^2 / area - 1.0)\\n        - concavity (severity of concave portions of the contour)\\n        - concave points (number of concave portions of the contour)\\n        - symmetry\\n        - fractal dimension (\"coastline approximation\" - 1)\\n\\n        The mean, standard error, and \"worst\" or largest (mean of the three\\n        worst/largest values) of these features were computed for each image,\\n        resulting in 30 features.  For instance, field 0 is Mean Radius, field\\n        10 is Radius SE, field 20 is Worst Radius.\\n\\n        - class:\\n                - WDBC-Malignant\\n                - WDBC-Benign\\n\\n    :Summary Statistics:\\n\\n    ===================================== ====== ======\\n                                           Min    Max\\n    ===================================== ====== ======\\n    radius (mean):                        6.981  28.11\\n    texture (mean):                       9.71   39.28\\n    perimeter (mean):                     43.79  188.5\\n    area (mean):                          143.5  2501.0\\n    smoothness (mean):                    0.053  0.163\\n    compactness (mean):                   0.019  0.345\\n    concavity (mean):                     0.0    0.427\\n    concave points (mean):                0.0    0.201\\n    symmetry (mean):                      0.106  0.304\\n    fractal dimension (mean):             0.05   0.097\\n    radius (standard error):              0.112  2.873\\n    texture (standard error):             0.36   4.885\\n    perimeter (standard error):           0.757  21.98\\n    area (standard error):                6.802  542.2\\n    smoothness (standard error):          0.002  0.031\\n    compactness (standard error):         0.002  0.135\\n    concavity (standard error):           0.0    0.396\\n    concave points (standard error):      0.0    0.053\\n    symmetry (standard error):            0.008  0.079\\n    fractal dimension (standard error):   0.001  0.03\\n    radius (worst):                       7.93   36.04\\n    texture (worst):                      12.02  49.54\\n    perimeter (worst):                    50.41  251.2\\n    area (worst):                         185.2  4254.0\\n    smoothness (worst):                   0.071  0.223\\n    compactness (worst):                  0.027  1.058\\n    concavity (worst):                    0.0    1.252\\n    concave points (worst):               0.0    0.291\\n    symmetry (worst):                     0.156  0.664\\n    fractal dimension (worst):            0.055  0.208\\n    ===================================== ====== ======\\n\\n    :Missing Attribute Values: None\\n\\n    :Class Distribution: 212 - Malignant, 357 - Benign\\n\\n    :Creator:  Dr. William H. Wolberg, W. Nick Street, Olvi L. Mangasarian\\n\\n    :Donor: Nick Street\\n\\n    :Date: November, 1995\\n\\nThis is a copy of UCI ML Breast Cancer Wisconsin (Diagnostic) datasets.\\nhttps://goo.gl/U2Uwz2\\n\\nFeatures are computed from a digitized image of a fine needle\\naspirate (FNA) of a breast mass.  They describe\\ncharacteristics of the cell nuclei present in the image.\\n\\nSeparating plane described above was obtained using\\nMultisurface Method-Tree (MSM-T) [K. P. Bennett, \"Decision Tree\\nConstruction Via Linear Programming.\" Proceedings of the 4th\\nMidwest Artificial Intelligence and Cognitive Science Society,\\npp. 97-101, 1992], a classification method which uses linear\\nprogramming to construct a decision tree.  Relevant features\\nwere selected using an exhaustive search in the space of 1-4\\nfeatures and 1-3 separating planes.\\n\\nThe actual linear program used to obtain the separating plane\\nin the 3-dimensional space is that described in:\\n[K. P. Bennett and O. L. Mangasarian: \"Robust Linear\\nProgramming Discrimination of Two Linearly Inseparable Sets\",\\nOptimization Methods and Software 1, 1992, 23-34].\\n\\nThis database is also available through the UW CS ftp server:\\n\\nftp ftp.cs.wisc.edu\\ncd math-prog/cpo-dataset/machine-learn/WDBC/\\n\\n.. topic:: References\\n\\n   - W.N. Street, W.H. Wolberg and O.L. Mangasarian. Nuclear feature extraction \\n     for breast tumor diagnosis. IS&T/SPIE 1993 International Symposium on \\n     Electronic Imaging: Science and Technology, volume 1905, pages 861-870,\\n     San Jose, CA, 1993.\\n   - O.L. Mangasarian, W.N. Street and W.H. Wolberg. Breast cancer diagnosis and \\n     prognosis via linear programming. Operations Research, 43(4), pages 570-577, \\n     July-August 1995.\\n   - W.H. Wolberg, W.N. Street, and O.L. Mangasarian. Machine learning techniques\\n     to diagnose breast cancer from fine-needle aspirates. Cancer Letters 77 (1994) \\n     163-171.',\n",
              " 'data': array([[1.799e+01, 1.038e+01, 1.228e+02, ..., 2.654e-01, 4.601e-01,\n",
              "         1.189e-01],\n",
              "        [2.057e+01, 1.777e+01, 1.329e+02, ..., 1.860e-01, 2.750e-01,\n",
              "         8.902e-02],\n",
              "        [1.969e+01, 2.125e+01, 1.300e+02, ..., 2.430e-01, 3.613e-01,\n",
              "         8.758e-02],\n",
              "        ...,\n",
              "        [1.660e+01, 2.808e+01, 1.083e+02, ..., 1.418e-01, 2.218e-01,\n",
              "         7.820e-02],\n",
              "        [2.060e+01, 2.933e+01, 1.401e+02, ..., 2.650e-01, 4.087e-01,\n",
              "         1.240e-01],\n",
              "        [7.760e+00, 2.454e+01, 4.792e+01, ..., 0.000e+00, 2.871e-01,\n",
              "         7.039e-02]]),\n",
              " 'data_module': 'sklearn.datasets.data',\n",
              " 'feature_names': array(['mean radius', 'mean texture', 'mean perimeter', 'mean area',\n",
              "        'mean smoothness', 'mean compactness', 'mean concavity',\n",
              "        'mean concave points', 'mean symmetry', 'mean fractal dimension',\n",
              "        'radius error', 'texture error', 'perimeter error', 'area error',\n",
              "        'smoothness error', 'compactness error', 'concavity error',\n",
              "        'concave points error', 'symmetry error',\n",
              "        'fractal dimension error', 'worst radius', 'worst texture',\n",
              "        'worst perimeter', 'worst area', 'worst smoothness',\n",
              "        'worst compactness', 'worst concavity', 'worst concave points',\n",
              "        'worst symmetry', 'worst fractal dimension'], dtype='<U23'),\n",
              " 'filename': 'breast_cancer.csv',\n",
              " 'frame': None,\n",
              " 'target': array([0, 0, 0, 0, 0, 0, 0, 0, 0, 0, 0, 0, 0, 0, 0, 0, 0, 0, 0, 1, 1, 1,\n",
              "        0, 0, 0, 0, 0, 0, 0, 0, 0, 0, 0, 0, 0, 0, 0, 1, 0, 0, 0, 0, 0, 0,\n",
              "        0, 0, 1, 0, 1, 1, 1, 1, 1, 0, 0, 1, 0, 0, 1, 1, 1, 1, 0, 1, 0, 0,\n",
              "        1, 1, 1, 1, 0, 1, 0, 0, 1, 0, 1, 0, 0, 1, 1, 1, 0, 0, 1, 0, 0, 0,\n",
              "        1, 1, 1, 0, 1, 1, 0, 0, 1, 1, 1, 0, 0, 1, 1, 1, 1, 0, 1, 1, 0, 1,\n",
              "        1, 1, 1, 1, 1, 1, 1, 0, 0, 0, 1, 0, 0, 1, 1, 1, 0, 0, 1, 0, 1, 0,\n",
              "        0, 1, 0, 0, 1, 1, 0, 1, 1, 0, 1, 1, 1, 1, 0, 1, 1, 1, 1, 1, 1, 1,\n",
              "        1, 1, 0, 1, 1, 1, 1, 0, 0, 1, 0, 1, 1, 0, 0, 1, 1, 0, 0, 1, 1, 1,\n",
              "        1, 0, 1, 1, 0, 0, 0, 1, 0, 1, 0, 1, 1, 1, 0, 1, 1, 0, 0, 1, 0, 0,\n",
              "        0, 0, 1, 0, 0, 0, 1, 0, 1, 0, 1, 1, 0, 1, 0, 0, 0, 0, 1, 1, 0, 0,\n",
              "        1, 1, 1, 0, 1, 1, 1, 1, 1, 0, 0, 1, 1, 0, 1, 1, 0, 0, 1, 0, 1, 1,\n",
              "        1, 1, 0, 1, 1, 1, 1, 1, 0, 1, 0, 0, 0, 0, 0, 0, 0, 0, 0, 0, 0, 0,\n",
              "        0, 0, 1, 1, 1, 1, 1, 1, 0, 1, 0, 1, 1, 0, 1, 1, 0, 1, 0, 0, 1, 1,\n",
              "        1, 1, 1, 1, 1, 1, 1, 1, 1, 1, 1, 0, 1, 1, 0, 1, 0, 1, 1, 1, 1, 1,\n",
              "        1, 1, 1, 1, 1, 1, 1, 1, 1, 0, 1, 1, 1, 0, 1, 0, 1, 1, 1, 1, 0, 0,\n",
              "        0, 1, 1, 1, 1, 0, 1, 0, 1, 0, 1, 1, 1, 0, 1, 1, 1, 1, 1, 1, 1, 0,\n",
              "        0, 0, 1, 1, 1, 1, 1, 1, 1, 1, 1, 1, 1, 0, 0, 1, 0, 0, 0, 1, 0, 0,\n",
              "        1, 1, 1, 1, 1, 0, 1, 1, 1, 1, 1, 0, 1, 1, 1, 0, 1, 1, 0, 0, 1, 1,\n",
              "        1, 1, 1, 1, 0, 1, 1, 1, 1, 1, 1, 1, 0, 1, 1, 1, 1, 1, 0, 1, 1, 0,\n",
              "        1, 1, 1, 1, 1, 1, 1, 1, 1, 1, 1, 1, 0, 1, 0, 0, 1, 0, 1, 1, 1, 1,\n",
              "        1, 0, 1, 1, 0, 1, 0, 1, 1, 0, 1, 0, 1, 1, 1, 1, 1, 1, 1, 1, 0, 0,\n",
              "        1, 1, 1, 1, 1, 1, 0, 1, 1, 1, 1, 1, 1, 1, 1, 1, 1, 0, 1, 1, 1, 1,\n",
              "        1, 1, 1, 0, 1, 0, 1, 1, 0, 1, 1, 1, 1, 1, 0, 0, 1, 0, 1, 0, 1, 1,\n",
              "        1, 1, 1, 0, 1, 1, 0, 1, 0, 1, 0, 0, 1, 1, 1, 0, 1, 1, 1, 1, 1, 1,\n",
              "        1, 1, 1, 1, 1, 0, 1, 0, 0, 1, 1, 1, 1, 1, 1, 1, 1, 1, 1, 1, 1, 1,\n",
              "        1, 1, 1, 1, 1, 1, 1, 1, 1, 1, 1, 1, 0, 0, 0, 0, 0, 0, 1]),\n",
              " 'target_names': array(['malignant', 'benign'], dtype='<U9')}"
            ]
          },
          "metadata": {},
          "execution_count": 57
        }
      ]
    },
    {
      "cell_type": "code",
      "source": [
        "import pandas as pd\n",
        "#converting dataset to dataframe (table)\n",
        "df = pd.DataFrame(data = dataset.data,columns = dataset.feature_names)\n",
        "#adding new column target and mapping it with value from the dataset\n",
        "df[\"target\"] = dataset.target\n",
        "#mapping the target value with the target names using map function\n",
        "df[\"target\"] = df[\"target\"].map({0:dataset.target_names[0],1:dataset.target_names[1]})\n",
        "#printing the dataframe df\n",
        "df\n"
      ],
      "metadata": {
        "colab": {
          "base_uri": "https://localhost:8080/",
          "height": 522
        },
        "id": "zTlT5XUB4j0L",
        "outputId": "9b76e5a7-2d6c-4300-c7b6-1457c74538b4"
      },
      "execution_count": null,
      "outputs": [
        {
          "output_type": "execute_result",
          "data": {
            "text/html": [
              "\n",
              "  <div id=\"df-6f6b09d1-264e-43aa-88dd-f5e7dc91b674\">\n",
              "    <div class=\"colab-df-container\">\n",
              "      <div>\n",
              "<style scoped>\n",
              "    .dataframe tbody tr th:only-of-type {\n",
              "        vertical-align: middle;\n",
              "    }\n",
              "\n",
              "    .dataframe tbody tr th {\n",
              "        vertical-align: top;\n",
              "    }\n",
              "\n",
              "    .dataframe thead th {\n",
              "        text-align: right;\n",
              "    }\n",
              "</style>\n",
              "<table border=\"1\" class=\"dataframe\">\n",
              "  <thead>\n",
              "    <tr style=\"text-align: right;\">\n",
              "      <th></th>\n",
              "      <th>mean radius</th>\n",
              "      <th>mean texture</th>\n",
              "      <th>mean perimeter</th>\n",
              "      <th>mean area</th>\n",
              "      <th>mean smoothness</th>\n",
              "      <th>mean compactness</th>\n",
              "      <th>mean concavity</th>\n",
              "      <th>mean concave points</th>\n",
              "      <th>mean symmetry</th>\n",
              "      <th>mean fractal dimension</th>\n",
              "      <th>radius error</th>\n",
              "      <th>texture error</th>\n",
              "      <th>perimeter error</th>\n",
              "      <th>area error</th>\n",
              "      <th>smoothness error</th>\n",
              "      <th>compactness error</th>\n",
              "      <th>concavity error</th>\n",
              "      <th>concave points error</th>\n",
              "      <th>symmetry error</th>\n",
              "      <th>fractal dimension error</th>\n",
              "      <th>worst radius</th>\n",
              "      <th>worst texture</th>\n",
              "      <th>worst perimeter</th>\n",
              "      <th>worst area</th>\n",
              "      <th>worst smoothness</th>\n",
              "      <th>worst compactness</th>\n",
              "      <th>worst concavity</th>\n",
              "      <th>worst concave points</th>\n",
              "      <th>worst symmetry</th>\n",
              "      <th>worst fractal dimension</th>\n",
              "      <th>target</th>\n",
              "    </tr>\n",
              "  </thead>\n",
              "  <tbody>\n",
              "    <tr>\n",
              "      <th>0</th>\n",
              "      <td>17.99</td>\n",
              "      <td>10.38</td>\n",
              "      <td>122.80</td>\n",
              "      <td>1001.0</td>\n",
              "      <td>0.11840</td>\n",
              "      <td>0.27760</td>\n",
              "      <td>0.30010</td>\n",
              "      <td>0.14710</td>\n",
              "      <td>0.2419</td>\n",
              "      <td>0.07871</td>\n",
              "      <td>1.0950</td>\n",
              "      <td>0.9053</td>\n",
              "      <td>8.589</td>\n",
              "      <td>153.40</td>\n",
              "      <td>0.006399</td>\n",
              "      <td>0.04904</td>\n",
              "      <td>0.05373</td>\n",
              "      <td>0.01587</td>\n",
              "      <td>0.03003</td>\n",
              "      <td>0.006193</td>\n",
              "      <td>25.380</td>\n",
              "      <td>17.33</td>\n",
              "      <td>184.60</td>\n",
              "      <td>2019.0</td>\n",
              "      <td>0.16220</td>\n",
              "      <td>0.66560</td>\n",
              "      <td>0.7119</td>\n",
              "      <td>0.2654</td>\n",
              "      <td>0.4601</td>\n",
              "      <td>0.11890</td>\n",
              "      <td>malignant</td>\n",
              "    </tr>\n",
              "    <tr>\n",
              "      <th>1</th>\n",
              "      <td>20.57</td>\n",
              "      <td>17.77</td>\n",
              "      <td>132.90</td>\n",
              "      <td>1326.0</td>\n",
              "      <td>0.08474</td>\n",
              "      <td>0.07864</td>\n",
              "      <td>0.08690</td>\n",
              "      <td>0.07017</td>\n",
              "      <td>0.1812</td>\n",
              "      <td>0.05667</td>\n",
              "      <td>0.5435</td>\n",
              "      <td>0.7339</td>\n",
              "      <td>3.398</td>\n",
              "      <td>74.08</td>\n",
              "      <td>0.005225</td>\n",
              "      <td>0.01308</td>\n",
              "      <td>0.01860</td>\n",
              "      <td>0.01340</td>\n",
              "      <td>0.01389</td>\n",
              "      <td>0.003532</td>\n",
              "      <td>24.990</td>\n",
              "      <td>23.41</td>\n",
              "      <td>158.80</td>\n",
              "      <td>1956.0</td>\n",
              "      <td>0.12380</td>\n",
              "      <td>0.18660</td>\n",
              "      <td>0.2416</td>\n",
              "      <td>0.1860</td>\n",
              "      <td>0.2750</td>\n",
              "      <td>0.08902</td>\n",
              "      <td>malignant</td>\n",
              "    </tr>\n",
              "    <tr>\n",
              "      <th>2</th>\n",
              "      <td>19.69</td>\n",
              "      <td>21.25</td>\n",
              "      <td>130.00</td>\n",
              "      <td>1203.0</td>\n",
              "      <td>0.10960</td>\n",
              "      <td>0.15990</td>\n",
              "      <td>0.19740</td>\n",
              "      <td>0.12790</td>\n",
              "      <td>0.2069</td>\n",
              "      <td>0.05999</td>\n",
              "      <td>0.7456</td>\n",
              "      <td>0.7869</td>\n",
              "      <td>4.585</td>\n",
              "      <td>94.03</td>\n",
              "      <td>0.006150</td>\n",
              "      <td>0.04006</td>\n",
              "      <td>0.03832</td>\n",
              "      <td>0.02058</td>\n",
              "      <td>0.02250</td>\n",
              "      <td>0.004571</td>\n",
              "      <td>23.570</td>\n",
              "      <td>25.53</td>\n",
              "      <td>152.50</td>\n",
              "      <td>1709.0</td>\n",
              "      <td>0.14440</td>\n",
              "      <td>0.42450</td>\n",
              "      <td>0.4504</td>\n",
              "      <td>0.2430</td>\n",
              "      <td>0.3613</td>\n",
              "      <td>0.08758</td>\n",
              "      <td>malignant</td>\n",
              "    </tr>\n",
              "    <tr>\n",
              "      <th>3</th>\n",
              "      <td>11.42</td>\n",
              "      <td>20.38</td>\n",
              "      <td>77.58</td>\n",
              "      <td>386.1</td>\n",
              "      <td>0.14250</td>\n",
              "      <td>0.28390</td>\n",
              "      <td>0.24140</td>\n",
              "      <td>0.10520</td>\n",
              "      <td>0.2597</td>\n",
              "      <td>0.09744</td>\n",
              "      <td>0.4956</td>\n",
              "      <td>1.1560</td>\n",
              "      <td>3.445</td>\n",
              "      <td>27.23</td>\n",
              "      <td>0.009110</td>\n",
              "      <td>0.07458</td>\n",
              "      <td>0.05661</td>\n",
              "      <td>0.01867</td>\n",
              "      <td>0.05963</td>\n",
              "      <td>0.009208</td>\n",
              "      <td>14.910</td>\n",
              "      <td>26.50</td>\n",
              "      <td>98.87</td>\n",
              "      <td>567.7</td>\n",
              "      <td>0.20980</td>\n",
              "      <td>0.86630</td>\n",
              "      <td>0.6869</td>\n",
              "      <td>0.2575</td>\n",
              "      <td>0.6638</td>\n",
              "      <td>0.17300</td>\n",
              "      <td>malignant</td>\n",
              "    </tr>\n",
              "    <tr>\n",
              "      <th>4</th>\n",
              "      <td>20.29</td>\n",
              "      <td>14.34</td>\n",
              "      <td>135.10</td>\n",
              "      <td>1297.0</td>\n",
              "      <td>0.10030</td>\n",
              "      <td>0.13280</td>\n",
              "      <td>0.19800</td>\n",
              "      <td>0.10430</td>\n",
              "      <td>0.1809</td>\n",
              "      <td>0.05883</td>\n",
              "      <td>0.7572</td>\n",
              "      <td>0.7813</td>\n",
              "      <td>5.438</td>\n",
              "      <td>94.44</td>\n",
              "      <td>0.011490</td>\n",
              "      <td>0.02461</td>\n",
              "      <td>0.05688</td>\n",
              "      <td>0.01885</td>\n",
              "      <td>0.01756</td>\n",
              "      <td>0.005115</td>\n",
              "      <td>22.540</td>\n",
              "      <td>16.67</td>\n",
              "      <td>152.20</td>\n",
              "      <td>1575.0</td>\n",
              "      <td>0.13740</td>\n",
              "      <td>0.20500</td>\n",
              "      <td>0.4000</td>\n",
              "      <td>0.1625</td>\n",
              "      <td>0.2364</td>\n",
              "      <td>0.07678</td>\n",
              "      <td>malignant</td>\n",
              "    </tr>\n",
              "    <tr>\n",
              "      <th>...</th>\n",
              "      <td>...</td>\n",
              "      <td>...</td>\n",
              "      <td>...</td>\n",
              "      <td>...</td>\n",
              "      <td>...</td>\n",
              "      <td>...</td>\n",
              "      <td>...</td>\n",
              "      <td>...</td>\n",
              "      <td>...</td>\n",
              "      <td>...</td>\n",
              "      <td>...</td>\n",
              "      <td>...</td>\n",
              "      <td>...</td>\n",
              "      <td>...</td>\n",
              "      <td>...</td>\n",
              "      <td>...</td>\n",
              "      <td>...</td>\n",
              "      <td>...</td>\n",
              "      <td>...</td>\n",
              "      <td>...</td>\n",
              "      <td>...</td>\n",
              "      <td>...</td>\n",
              "      <td>...</td>\n",
              "      <td>...</td>\n",
              "      <td>...</td>\n",
              "      <td>...</td>\n",
              "      <td>...</td>\n",
              "      <td>...</td>\n",
              "      <td>...</td>\n",
              "      <td>...</td>\n",
              "      <td>...</td>\n",
              "    </tr>\n",
              "    <tr>\n",
              "      <th>564</th>\n",
              "      <td>21.56</td>\n",
              "      <td>22.39</td>\n",
              "      <td>142.00</td>\n",
              "      <td>1479.0</td>\n",
              "      <td>0.11100</td>\n",
              "      <td>0.11590</td>\n",
              "      <td>0.24390</td>\n",
              "      <td>0.13890</td>\n",
              "      <td>0.1726</td>\n",
              "      <td>0.05623</td>\n",
              "      <td>1.1760</td>\n",
              "      <td>1.2560</td>\n",
              "      <td>7.673</td>\n",
              "      <td>158.70</td>\n",
              "      <td>0.010300</td>\n",
              "      <td>0.02891</td>\n",
              "      <td>0.05198</td>\n",
              "      <td>0.02454</td>\n",
              "      <td>0.01114</td>\n",
              "      <td>0.004239</td>\n",
              "      <td>25.450</td>\n",
              "      <td>26.40</td>\n",
              "      <td>166.10</td>\n",
              "      <td>2027.0</td>\n",
              "      <td>0.14100</td>\n",
              "      <td>0.21130</td>\n",
              "      <td>0.4107</td>\n",
              "      <td>0.2216</td>\n",
              "      <td>0.2060</td>\n",
              "      <td>0.07115</td>\n",
              "      <td>malignant</td>\n",
              "    </tr>\n",
              "    <tr>\n",
              "      <th>565</th>\n",
              "      <td>20.13</td>\n",
              "      <td>28.25</td>\n",
              "      <td>131.20</td>\n",
              "      <td>1261.0</td>\n",
              "      <td>0.09780</td>\n",
              "      <td>0.10340</td>\n",
              "      <td>0.14400</td>\n",
              "      <td>0.09791</td>\n",
              "      <td>0.1752</td>\n",
              "      <td>0.05533</td>\n",
              "      <td>0.7655</td>\n",
              "      <td>2.4630</td>\n",
              "      <td>5.203</td>\n",
              "      <td>99.04</td>\n",
              "      <td>0.005769</td>\n",
              "      <td>0.02423</td>\n",
              "      <td>0.03950</td>\n",
              "      <td>0.01678</td>\n",
              "      <td>0.01898</td>\n",
              "      <td>0.002498</td>\n",
              "      <td>23.690</td>\n",
              "      <td>38.25</td>\n",
              "      <td>155.00</td>\n",
              "      <td>1731.0</td>\n",
              "      <td>0.11660</td>\n",
              "      <td>0.19220</td>\n",
              "      <td>0.3215</td>\n",
              "      <td>0.1628</td>\n",
              "      <td>0.2572</td>\n",
              "      <td>0.06637</td>\n",
              "      <td>malignant</td>\n",
              "    </tr>\n",
              "    <tr>\n",
              "      <th>566</th>\n",
              "      <td>16.60</td>\n",
              "      <td>28.08</td>\n",
              "      <td>108.30</td>\n",
              "      <td>858.1</td>\n",
              "      <td>0.08455</td>\n",
              "      <td>0.10230</td>\n",
              "      <td>0.09251</td>\n",
              "      <td>0.05302</td>\n",
              "      <td>0.1590</td>\n",
              "      <td>0.05648</td>\n",
              "      <td>0.4564</td>\n",
              "      <td>1.0750</td>\n",
              "      <td>3.425</td>\n",
              "      <td>48.55</td>\n",
              "      <td>0.005903</td>\n",
              "      <td>0.03731</td>\n",
              "      <td>0.04730</td>\n",
              "      <td>0.01557</td>\n",
              "      <td>0.01318</td>\n",
              "      <td>0.003892</td>\n",
              "      <td>18.980</td>\n",
              "      <td>34.12</td>\n",
              "      <td>126.70</td>\n",
              "      <td>1124.0</td>\n",
              "      <td>0.11390</td>\n",
              "      <td>0.30940</td>\n",
              "      <td>0.3403</td>\n",
              "      <td>0.1418</td>\n",
              "      <td>0.2218</td>\n",
              "      <td>0.07820</td>\n",
              "      <td>malignant</td>\n",
              "    </tr>\n",
              "    <tr>\n",
              "      <th>567</th>\n",
              "      <td>20.60</td>\n",
              "      <td>29.33</td>\n",
              "      <td>140.10</td>\n",
              "      <td>1265.0</td>\n",
              "      <td>0.11780</td>\n",
              "      <td>0.27700</td>\n",
              "      <td>0.35140</td>\n",
              "      <td>0.15200</td>\n",
              "      <td>0.2397</td>\n",
              "      <td>0.07016</td>\n",
              "      <td>0.7260</td>\n",
              "      <td>1.5950</td>\n",
              "      <td>5.772</td>\n",
              "      <td>86.22</td>\n",
              "      <td>0.006522</td>\n",
              "      <td>0.06158</td>\n",
              "      <td>0.07117</td>\n",
              "      <td>0.01664</td>\n",
              "      <td>0.02324</td>\n",
              "      <td>0.006185</td>\n",
              "      <td>25.740</td>\n",
              "      <td>39.42</td>\n",
              "      <td>184.60</td>\n",
              "      <td>1821.0</td>\n",
              "      <td>0.16500</td>\n",
              "      <td>0.86810</td>\n",
              "      <td>0.9387</td>\n",
              "      <td>0.2650</td>\n",
              "      <td>0.4087</td>\n",
              "      <td>0.12400</td>\n",
              "      <td>malignant</td>\n",
              "    </tr>\n",
              "    <tr>\n",
              "      <th>568</th>\n",
              "      <td>7.76</td>\n",
              "      <td>24.54</td>\n",
              "      <td>47.92</td>\n",
              "      <td>181.0</td>\n",
              "      <td>0.05263</td>\n",
              "      <td>0.04362</td>\n",
              "      <td>0.00000</td>\n",
              "      <td>0.00000</td>\n",
              "      <td>0.1587</td>\n",
              "      <td>0.05884</td>\n",
              "      <td>0.3857</td>\n",
              "      <td>1.4280</td>\n",
              "      <td>2.548</td>\n",
              "      <td>19.15</td>\n",
              "      <td>0.007189</td>\n",
              "      <td>0.00466</td>\n",
              "      <td>0.00000</td>\n",
              "      <td>0.00000</td>\n",
              "      <td>0.02676</td>\n",
              "      <td>0.002783</td>\n",
              "      <td>9.456</td>\n",
              "      <td>30.37</td>\n",
              "      <td>59.16</td>\n",
              "      <td>268.6</td>\n",
              "      <td>0.08996</td>\n",
              "      <td>0.06444</td>\n",
              "      <td>0.0000</td>\n",
              "      <td>0.0000</td>\n",
              "      <td>0.2871</td>\n",
              "      <td>0.07039</td>\n",
              "      <td>benign</td>\n",
              "    </tr>\n",
              "  </tbody>\n",
              "</table>\n",
              "<p>569 rows × 31 columns</p>\n",
              "</div>\n",
              "      <button class=\"colab-df-convert\" onclick=\"convertToInteractive('df-6f6b09d1-264e-43aa-88dd-f5e7dc91b674')\"\n",
              "              title=\"Convert this dataframe to an interactive table.\"\n",
              "              style=\"display:none;\">\n",
              "        \n",
              "  <svg xmlns=\"http://www.w3.org/2000/svg\" height=\"24px\"viewBox=\"0 0 24 24\"\n",
              "       width=\"24px\">\n",
              "    <path d=\"M0 0h24v24H0V0z\" fill=\"none\"/>\n",
              "    <path d=\"M18.56 5.44l.94 2.06.94-2.06 2.06-.94-2.06-.94-.94-2.06-.94 2.06-2.06.94zm-11 1L8.5 8.5l.94-2.06 2.06-.94-2.06-.94L8.5 2.5l-.94 2.06-2.06.94zm10 10l.94 2.06.94-2.06 2.06-.94-2.06-.94-.94-2.06-.94 2.06-2.06.94z\"/><path d=\"M17.41 7.96l-1.37-1.37c-.4-.4-.92-.59-1.43-.59-.52 0-1.04.2-1.43.59L10.3 9.45l-7.72 7.72c-.78.78-.78 2.05 0 2.83L4 21.41c.39.39.9.59 1.41.59.51 0 1.02-.2 1.41-.59l7.78-7.78 2.81-2.81c.8-.78.8-2.07 0-2.86zM5.41 20L4 18.59l7.72-7.72 1.47 1.35L5.41 20z\"/>\n",
              "  </svg>\n",
              "      </button>\n",
              "      \n",
              "  <style>\n",
              "    .colab-df-container {\n",
              "      display:flex;\n",
              "      flex-wrap:wrap;\n",
              "      gap: 12px;\n",
              "    }\n",
              "\n",
              "    .colab-df-convert {\n",
              "      background-color: #E8F0FE;\n",
              "      border: none;\n",
              "      border-radius: 50%;\n",
              "      cursor: pointer;\n",
              "      display: none;\n",
              "      fill: #1967D2;\n",
              "      height: 32px;\n",
              "      padding: 0 0 0 0;\n",
              "      width: 32px;\n",
              "    }\n",
              "\n",
              "    .colab-df-convert:hover {\n",
              "      background-color: #E2EBFA;\n",
              "      box-shadow: 0px 1px 2px rgba(60, 64, 67, 0.3), 0px 1px 3px 1px rgba(60, 64, 67, 0.15);\n",
              "      fill: #174EA6;\n",
              "    }\n",
              "\n",
              "    [theme=dark] .colab-df-convert {\n",
              "      background-color: #3B4455;\n",
              "      fill: #D2E3FC;\n",
              "    }\n",
              "\n",
              "    [theme=dark] .colab-df-convert:hover {\n",
              "      background-color: #434B5C;\n",
              "      box-shadow: 0px 1px 3px 1px rgba(0, 0, 0, 0.15);\n",
              "      filter: drop-shadow(0px 1px 2px rgba(0, 0, 0, 0.3));\n",
              "      fill: #FFFFFF;\n",
              "    }\n",
              "  </style>\n",
              "\n",
              "      <script>\n",
              "        const buttonEl =\n",
              "          document.querySelector('#df-6f6b09d1-264e-43aa-88dd-f5e7dc91b674 button.colab-df-convert');\n",
              "        buttonEl.style.display =\n",
              "          google.colab.kernel.accessAllowed ? 'block' : 'none';\n",
              "\n",
              "        async function convertToInteractive(key) {\n",
              "          const element = document.querySelector('#df-6f6b09d1-264e-43aa-88dd-f5e7dc91b674');\n",
              "          const dataTable =\n",
              "            await google.colab.kernel.invokeFunction('convertToInteractive',\n",
              "                                                     [key], {});\n",
              "          if (!dataTable) return;\n",
              "\n",
              "          const docLinkHtml = 'Like what you see? Visit the ' +\n",
              "            '<a target=\"_blank\" href=https://colab.research.google.com/notebooks/data_table.ipynb>data table notebook</a>'\n",
              "            + ' to learn more about interactive tables.';\n",
              "          element.innerHTML = '';\n",
              "          dataTable['output_type'] = 'display_data';\n",
              "          await google.colab.output.renderOutput(dataTable, element);\n",
              "          const docLink = document.createElement('div');\n",
              "          docLink.innerHTML = docLinkHtml;\n",
              "          element.appendChild(docLink);\n",
              "        }\n",
              "      </script>\n",
              "    </div>\n",
              "  </div>\n",
              "  "
            ],
            "text/plain": [
              "     mean radius  mean texture  ...  worst fractal dimension     target\n",
              "0          17.99         10.38  ...                  0.11890  malignant\n",
              "1          20.57         17.77  ...                  0.08902  malignant\n",
              "2          19.69         21.25  ...                  0.08758  malignant\n",
              "3          11.42         20.38  ...                  0.17300  malignant\n",
              "4          20.29         14.34  ...                  0.07678  malignant\n",
              "..           ...           ...  ...                      ...        ...\n",
              "564        21.56         22.39  ...                  0.07115  malignant\n",
              "565        20.13         28.25  ...                  0.06637  malignant\n",
              "566        16.60         28.08  ...                  0.07820  malignant\n",
              "567        20.60         29.33  ...                  0.12400  malignant\n",
              "568         7.76         24.54  ...                  0.07039     benign\n",
              "\n",
              "[569 rows x 31 columns]"
            ]
          },
          "metadata": {},
          "execution_count": 58
        }
      ]
    },
    {
      "cell_type": "code",
      "source": [
        "total_number_of_features = dataset.feature_names.size\n",
        "total_number_of_features"
      ],
      "metadata": {
        "id": "0lHsZMc6-VYz",
        "colab": {
          "base_uri": "https://localhost:8080/"
        },
        "outputId": "7b166a3f-d6e6-415c-8afe-f96fd7e46de7"
      },
      "execution_count": null,
      "outputs": [
        {
          "output_type": "execute_result",
          "data": {
            "text/plain": [
              "30"
            ]
          },
          "metadata": {},
          "execution_count": 59
        }
      ]
    },
    {
      "cell_type": "code",
      "source": [
        "df[df[\"mean area\"]>700].count()"
      ],
      "metadata": {
        "id": "kvJ7DSluEwwM",
        "colab": {
          "base_uri": "https://localhost:8080/"
        },
        "outputId": "9b9f34ec-c573-4059-921a-edac9f4422d7"
      },
      "execution_count": null,
      "outputs": [
        {
          "output_type": "execute_result",
          "data": {
            "text/plain": [
              "mean radius                171\n",
              "mean texture               171\n",
              "mean perimeter             171\n",
              "mean area                  171\n",
              "mean smoothness            171\n",
              "mean compactness           171\n",
              "mean concavity             171\n",
              "mean concave points        171\n",
              "mean symmetry              171\n",
              "mean fractal dimension     171\n",
              "radius error               171\n",
              "texture error              171\n",
              "perimeter error            171\n",
              "area error                 171\n",
              "smoothness error           171\n",
              "compactness error          171\n",
              "concavity error            171\n",
              "concave points error       171\n",
              "symmetry error             171\n",
              "fractal dimension error    171\n",
              "worst radius               171\n",
              "worst texture              171\n",
              "worst perimeter            171\n",
              "worst area                 171\n",
              "worst smoothness           171\n",
              "worst compactness          171\n",
              "worst concavity            171\n",
              "worst concave points       171\n",
              "worst symmetry             171\n",
              "worst fractal dimension    171\n",
              "target                     171\n",
              "dtype: int64"
            ]
          },
          "metadata": {},
          "execution_count": 90
        }
      ]
    },
    {
      "cell_type": "code",
      "source": [
        "df[df[\"target\"].str.contains(\"malignant\")].count()"
      ],
      "metadata": {
        "id": "8ufPPNabFIqC",
        "colab": {
          "base_uri": "https://localhost:8080/"
        },
        "outputId": "d8c8279a-a785-4b3b-aa57-6f80e102c1c9"
      },
      "execution_count": null,
      "outputs": [
        {
          "output_type": "execute_result",
          "data": {
            "text/plain": [
              "mean radius                212\n",
              "mean texture               212\n",
              "mean perimeter             212\n",
              "mean area                  212\n",
              "mean smoothness            212\n",
              "mean compactness           212\n",
              "mean concavity             212\n",
              "mean concave points        212\n",
              "mean symmetry              212\n",
              "mean fractal dimension     212\n",
              "radius error               212\n",
              "texture error              212\n",
              "perimeter error            212\n",
              "area error                 212\n",
              "smoothness error           212\n",
              "compactness error          212\n",
              "concavity error            212\n",
              "concave points error       212\n",
              "symmetry error             212\n",
              "fractal dimension error    212\n",
              "worst radius               212\n",
              "worst texture              212\n",
              "worst perimeter            212\n",
              "worst area                 212\n",
              "worst smoothness           212\n",
              "worst compactness          212\n",
              "worst concavity            212\n",
              "worst concave points       212\n",
              "worst symmetry             212\n",
              "worst fractal dimension    212\n",
              "target                     212\n",
              "dtype: int64"
            ]
          },
          "metadata": {},
          "execution_count": 61
        }
      ]
    },
    {
      "cell_type": "code",
      "source": [
        "df[df[\"target\"].str.contains(\"benign\")].count()"
      ],
      "metadata": {
        "id": "79wceOBCGAVa",
        "colab": {
          "base_uri": "https://localhost:8080/"
        },
        "outputId": "b8676a68-77b5-41ee-c392-8b1b253d487c"
      },
      "execution_count": null,
      "outputs": [
        {
          "output_type": "execute_result",
          "data": {
            "text/plain": [
              "mean radius                357\n",
              "mean texture               357\n",
              "mean perimeter             357\n",
              "mean area                  357\n",
              "mean smoothness            357\n",
              "mean compactness           357\n",
              "mean concavity             357\n",
              "mean concave points        357\n",
              "mean symmetry              357\n",
              "mean fractal dimension     357\n",
              "radius error               357\n",
              "texture error              357\n",
              "perimeter error            357\n",
              "area error                 357\n",
              "smoothness error           357\n",
              "compactness error          357\n",
              "concavity error            357\n",
              "concave points error       357\n",
              "symmetry error             357\n",
              "fractal dimension error    357\n",
              "worst radius               357\n",
              "worst texture              357\n",
              "worst perimeter            357\n",
              "worst area                 357\n",
              "worst smoothness           357\n",
              "worst compactness          357\n",
              "worst concavity            357\n",
              "worst concave points       357\n",
              "worst symmetry             357\n",
              "worst fractal dimension    357\n",
              "target                     357\n",
              "dtype: int64"
            ]
          },
          "metadata": {},
          "execution_count": 62
        }
      ]
    },
    {
      "cell_type": "code",
      "source": [
        "# converting the target to binary value and adding it to dataframe\n",
        "df[\"target\"] = df[\"target\"].map({dataset.target_names[0]:0,dataset.target_names[1]:1})"
      ],
      "metadata": {
        "id": "MKgW97XIjEhG"
      },
      "execution_count": null,
      "outputs": []
    },
    {
      "cell_type": "code",
      "source": [
        "# printing the dataframe with target\n",
        "df"
      ],
      "metadata": {
        "colab": {
          "base_uri": "https://localhost:8080/",
          "height": 522
        },
        "id": "5_YZXBLzjNNj",
        "outputId": "74b61849-52b3-46f4-fdd4-8ac5e80c7b88"
      },
      "execution_count": null,
      "outputs": [
        {
          "output_type": "execute_result",
          "data": {
            "text/html": [
              "\n",
              "  <div id=\"df-57cfaa0b-2b8c-4ea2-9d07-bb48cb1f4d11\">\n",
              "    <div class=\"colab-df-container\">\n",
              "      <div>\n",
              "<style scoped>\n",
              "    .dataframe tbody tr th:only-of-type {\n",
              "        vertical-align: middle;\n",
              "    }\n",
              "\n",
              "    .dataframe tbody tr th {\n",
              "        vertical-align: top;\n",
              "    }\n",
              "\n",
              "    .dataframe thead th {\n",
              "        text-align: right;\n",
              "    }\n",
              "</style>\n",
              "<table border=\"1\" class=\"dataframe\">\n",
              "  <thead>\n",
              "    <tr style=\"text-align: right;\">\n",
              "      <th></th>\n",
              "      <th>mean radius</th>\n",
              "      <th>mean texture</th>\n",
              "      <th>mean perimeter</th>\n",
              "      <th>mean area</th>\n",
              "      <th>mean smoothness</th>\n",
              "      <th>mean compactness</th>\n",
              "      <th>mean concavity</th>\n",
              "      <th>mean concave points</th>\n",
              "      <th>mean symmetry</th>\n",
              "      <th>mean fractal dimension</th>\n",
              "      <th>radius error</th>\n",
              "      <th>texture error</th>\n",
              "      <th>perimeter error</th>\n",
              "      <th>area error</th>\n",
              "      <th>smoothness error</th>\n",
              "      <th>compactness error</th>\n",
              "      <th>concavity error</th>\n",
              "      <th>concave points error</th>\n",
              "      <th>symmetry error</th>\n",
              "      <th>fractal dimension error</th>\n",
              "      <th>worst radius</th>\n",
              "      <th>worst texture</th>\n",
              "      <th>worst perimeter</th>\n",
              "      <th>worst area</th>\n",
              "      <th>worst smoothness</th>\n",
              "      <th>worst compactness</th>\n",
              "      <th>worst concavity</th>\n",
              "      <th>worst concave points</th>\n",
              "      <th>worst symmetry</th>\n",
              "      <th>worst fractal dimension</th>\n",
              "      <th>target</th>\n",
              "    </tr>\n",
              "  </thead>\n",
              "  <tbody>\n",
              "    <tr>\n",
              "      <th>0</th>\n",
              "      <td>17.99</td>\n",
              "      <td>10.38</td>\n",
              "      <td>122.80</td>\n",
              "      <td>1001.0</td>\n",
              "      <td>0.11840</td>\n",
              "      <td>0.27760</td>\n",
              "      <td>0.30010</td>\n",
              "      <td>0.14710</td>\n",
              "      <td>0.2419</td>\n",
              "      <td>0.07871</td>\n",
              "      <td>1.0950</td>\n",
              "      <td>0.9053</td>\n",
              "      <td>8.589</td>\n",
              "      <td>153.40</td>\n",
              "      <td>0.006399</td>\n",
              "      <td>0.04904</td>\n",
              "      <td>0.05373</td>\n",
              "      <td>0.01587</td>\n",
              "      <td>0.03003</td>\n",
              "      <td>0.006193</td>\n",
              "      <td>25.380</td>\n",
              "      <td>17.33</td>\n",
              "      <td>184.60</td>\n",
              "      <td>2019.0</td>\n",
              "      <td>0.16220</td>\n",
              "      <td>0.66560</td>\n",
              "      <td>0.7119</td>\n",
              "      <td>0.2654</td>\n",
              "      <td>0.4601</td>\n",
              "      <td>0.11890</td>\n",
              "      <td>0</td>\n",
              "    </tr>\n",
              "    <tr>\n",
              "      <th>1</th>\n",
              "      <td>20.57</td>\n",
              "      <td>17.77</td>\n",
              "      <td>132.90</td>\n",
              "      <td>1326.0</td>\n",
              "      <td>0.08474</td>\n",
              "      <td>0.07864</td>\n",
              "      <td>0.08690</td>\n",
              "      <td>0.07017</td>\n",
              "      <td>0.1812</td>\n",
              "      <td>0.05667</td>\n",
              "      <td>0.5435</td>\n",
              "      <td>0.7339</td>\n",
              "      <td>3.398</td>\n",
              "      <td>74.08</td>\n",
              "      <td>0.005225</td>\n",
              "      <td>0.01308</td>\n",
              "      <td>0.01860</td>\n",
              "      <td>0.01340</td>\n",
              "      <td>0.01389</td>\n",
              "      <td>0.003532</td>\n",
              "      <td>24.990</td>\n",
              "      <td>23.41</td>\n",
              "      <td>158.80</td>\n",
              "      <td>1956.0</td>\n",
              "      <td>0.12380</td>\n",
              "      <td>0.18660</td>\n",
              "      <td>0.2416</td>\n",
              "      <td>0.1860</td>\n",
              "      <td>0.2750</td>\n",
              "      <td>0.08902</td>\n",
              "      <td>0</td>\n",
              "    </tr>\n",
              "    <tr>\n",
              "      <th>2</th>\n",
              "      <td>19.69</td>\n",
              "      <td>21.25</td>\n",
              "      <td>130.00</td>\n",
              "      <td>1203.0</td>\n",
              "      <td>0.10960</td>\n",
              "      <td>0.15990</td>\n",
              "      <td>0.19740</td>\n",
              "      <td>0.12790</td>\n",
              "      <td>0.2069</td>\n",
              "      <td>0.05999</td>\n",
              "      <td>0.7456</td>\n",
              "      <td>0.7869</td>\n",
              "      <td>4.585</td>\n",
              "      <td>94.03</td>\n",
              "      <td>0.006150</td>\n",
              "      <td>0.04006</td>\n",
              "      <td>0.03832</td>\n",
              "      <td>0.02058</td>\n",
              "      <td>0.02250</td>\n",
              "      <td>0.004571</td>\n",
              "      <td>23.570</td>\n",
              "      <td>25.53</td>\n",
              "      <td>152.50</td>\n",
              "      <td>1709.0</td>\n",
              "      <td>0.14440</td>\n",
              "      <td>0.42450</td>\n",
              "      <td>0.4504</td>\n",
              "      <td>0.2430</td>\n",
              "      <td>0.3613</td>\n",
              "      <td>0.08758</td>\n",
              "      <td>0</td>\n",
              "    </tr>\n",
              "    <tr>\n",
              "      <th>3</th>\n",
              "      <td>11.42</td>\n",
              "      <td>20.38</td>\n",
              "      <td>77.58</td>\n",
              "      <td>386.1</td>\n",
              "      <td>0.14250</td>\n",
              "      <td>0.28390</td>\n",
              "      <td>0.24140</td>\n",
              "      <td>0.10520</td>\n",
              "      <td>0.2597</td>\n",
              "      <td>0.09744</td>\n",
              "      <td>0.4956</td>\n",
              "      <td>1.1560</td>\n",
              "      <td>3.445</td>\n",
              "      <td>27.23</td>\n",
              "      <td>0.009110</td>\n",
              "      <td>0.07458</td>\n",
              "      <td>0.05661</td>\n",
              "      <td>0.01867</td>\n",
              "      <td>0.05963</td>\n",
              "      <td>0.009208</td>\n",
              "      <td>14.910</td>\n",
              "      <td>26.50</td>\n",
              "      <td>98.87</td>\n",
              "      <td>567.7</td>\n",
              "      <td>0.20980</td>\n",
              "      <td>0.86630</td>\n",
              "      <td>0.6869</td>\n",
              "      <td>0.2575</td>\n",
              "      <td>0.6638</td>\n",
              "      <td>0.17300</td>\n",
              "      <td>0</td>\n",
              "    </tr>\n",
              "    <tr>\n",
              "      <th>4</th>\n",
              "      <td>20.29</td>\n",
              "      <td>14.34</td>\n",
              "      <td>135.10</td>\n",
              "      <td>1297.0</td>\n",
              "      <td>0.10030</td>\n",
              "      <td>0.13280</td>\n",
              "      <td>0.19800</td>\n",
              "      <td>0.10430</td>\n",
              "      <td>0.1809</td>\n",
              "      <td>0.05883</td>\n",
              "      <td>0.7572</td>\n",
              "      <td>0.7813</td>\n",
              "      <td>5.438</td>\n",
              "      <td>94.44</td>\n",
              "      <td>0.011490</td>\n",
              "      <td>0.02461</td>\n",
              "      <td>0.05688</td>\n",
              "      <td>0.01885</td>\n",
              "      <td>0.01756</td>\n",
              "      <td>0.005115</td>\n",
              "      <td>22.540</td>\n",
              "      <td>16.67</td>\n",
              "      <td>152.20</td>\n",
              "      <td>1575.0</td>\n",
              "      <td>0.13740</td>\n",
              "      <td>0.20500</td>\n",
              "      <td>0.4000</td>\n",
              "      <td>0.1625</td>\n",
              "      <td>0.2364</td>\n",
              "      <td>0.07678</td>\n",
              "      <td>0</td>\n",
              "    </tr>\n",
              "    <tr>\n",
              "      <th>...</th>\n",
              "      <td>...</td>\n",
              "      <td>...</td>\n",
              "      <td>...</td>\n",
              "      <td>...</td>\n",
              "      <td>...</td>\n",
              "      <td>...</td>\n",
              "      <td>...</td>\n",
              "      <td>...</td>\n",
              "      <td>...</td>\n",
              "      <td>...</td>\n",
              "      <td>...</td>\n",
              "      <td>...</td>\n",
              "      <td>...</td>\n",
              "      <td>...</td>\n",
              "      <td>...</td>\n",
              "      <td>...</td>\n",
              "      <td>...</td>\n",
              "      <td>...</td>\n",
              "      <td>...</td>\n",
              "      <td>...</td>\n",
              "      <td>...</td>\n",
              "      <td>...</td>\n",
              "      <td>...</td>\n",
              "      <td>...</td>\n",
              "      <td>...</td>\n",
              "      <td>...</td>\n",
              "      <td>...</td>\n",
              "      <td>...</td>\n",
              "      <td>...</td>\n",
              "      <td>...</td>\n",
              "      <td>...</td>\n",
              "    </tr>\n",
              "    <tr>\n",
              "      <th>564</th>\n",
              "      <td>21.56</td>\n",
              "      <td>22.39</td>\n",
              "      <td>142.00</td>\n",
              "      <td>1479.0</td>\n",
              "      <td>0.11100</td>\n",
              "      <td>0.11590</td>\n",
              "      <td>0.24390</td>\n",
              "      <td>0.13890</td>\n",
              "      <td>0.1726</td>\n",
              "      <td>0.05623</td>\n",
              "      <td>1.1760</td>\n",
              "      <td>1.2560</td>\n",
              "      <td>7.673</td>\n",
              "      <td>158.70</td>\n",
              "      <td>0.010300</td>\n",
              "      <td>0.02891</td>\n",
              "      <td>0.05198</td>\n",
              "      <td>0.02454</td>\n",
              "      <td>0.01114</td>\n",
              "      <td>0.004239</td>\n",
              "      <td>25.450</td>\n",
              "      <td>26.40</td>\n",
              "      <td>166.10</td>\n",
              "      <td>2027.0</td>\n",
              "      <td>0.14100</td>\n",
              "      <td>0.21130</td>\n",
              "      <td>0.4107</td>\n",
              "      <td>0.2216</td>\n",
              "      <td>0.2060</td>\n",
              "      <td>0.07115</td>\n",
              "      <td>0</td>\n",
              "    </tr>\n",
              "    <tr>\n",
              "      <th>565</th>\n",
              "      <td>20.13</td>\n",
              "      <td>28.25</td>\n",
              "      <td>131.20</td>\n",
              "      <td>1261.0</td>\n",
              "      <td>0.09780</td>\n",
              "      <td>0.10340</td>\n",
              "      <td>0.14400</td>\n",
              "      <td>0.09791</td>\n",
              "      <td>0.1752</td>\n",
              "      <td>0.05533</td>\n",
              "      <td>0.7655</td>\n",
              "      <td>2.4630</td>\n",
              "      <td>5.203</td>\n",
              "      <td>99.04</td>\n",
              "      <td>0.005769</td>\n",
              "      <td>0.02423</td>\n",
              "      <td>0.03950</td>\n",
              "      <td>0.01678</td>\n",
              "      <td>0.01898</td>\n",
              "      <td>0.002498</td>\n",
              "      <td>23.690</td>\n",
              "      <td>38.25</td>\n",
              "      <td>155.00</td>\n",
              "      <td>1731.0</td>\n",
              "      <td>0.11660</td>\n",
              "      <td>0.19220</td>\n",
              "      <td>0.3215</td>\n",
              "      <td>0.1628</td>\n",
              "      <td>0.2572</td>\n",
              "      <td>0.06637</td>\n",
              "      <td>0</td>\n",
              "    </tr>\n",
              "    <tr>\n",
              "      <th>566</th>\n",
              "      <td>16.60</td>\n",
              "      <td>28.08</td>\n",
              "      <td>108.30</td>\n",
              "      <td>858.1</td>\n",
              "      <td>0.08455</td>\n",
              "      <td>0.10230</td>\n",
              "      <td>0.09251</td>\n",
              "      <td>0.05302</td>\n",
              "      <td>0.1590</td>\n",
              "      <td>0.05648</td>\n",
              "      <td>0.4564</td>\n",
              "      <td>1.0750</td>\n",
              "      <td>3.425</td>\n",
              "      <td>48.55</td>\n",
              "      <td>0.005903</td>\n",
              "      <td>0.03731</td>\n",
              "      <td>0.04730</td>\n",
              "      <td>0.01557</td>\n",
              "      <td>0.01318</td>\n",
              "      <td>0.003892</td>\n",
              "      <td>18.980</td>\n",
              "      <td>34.12</td>\n",
              "      <td>126.70</td>\n",
              "      <td>1124.0</td>\n",
              "      <td>0.11390</td>\n",
              "      <td>0.30940</td>\n",
              "      <td>0.3403</td>\n",
              "      <td>0.1418</td>\n",
              "      <td>0.2218</td>\n",
              "      <td>0.07820</td>\n",
              "      <td>0</td>\n",
              "    </tr>\n",
              "    <tr>\n",
              "      <th>567</th>\n",
              "      <td>20.60</td>\n",
              "      <td>29.33</td>\n",
              "      <td>140.10</td>\n",
              "      <td>1265.0</td>\n",
              "      <td>0.11780</td>\n",
              "      <td>0.27700</td>\n",
              "      <td>0.35140</td>\n",
              "      <td>0.15200</td>\n",
              "      <td>0.2397</td>\n",
              "      <td>0.07016</td>\n",
              "      <td>0.7260</td>\n",
              "      <td>1.5950</td>\n",
              "      <td>5.772</td>\n",
              "      <td>86.22</td>\n",
              "      <td>0.006522</td>\n",
              "      <td>0.06158</td>\n",
              "      <td>0.07117</td>\n",
              "      <td>0.01664</td>\n",
              "      <td>0.02324</td>\n",
              "      <td>0.006185</td>\n",
              "      <td>25.740</td>\n",
              "      <td>39.42</td>\n",
              "      <td>184.60</td>\n",
              "      <td>1821.0</td>\n",
              "      <td>0.16500</td>\n",
              "      <td>0.86810</td>\n",
              "      <td>0.9387</td>\n",
              "      <td>0.2650</td>\n",
              "      <td>0.4087</td>\n",
              "      <td>0.12400</td>\n",
              "      <td>0</td>\n",
              "    </tr>\n",
              "    <tr>\n",
              "      <th>568</th>\n",
              "      <td>7.76</td>\n",
              "      <td>24.54</td>\n",
              "      <td>47.92</td>\n",
              "      <td>181.0</td>\n",
              "      <td>0.05263</td>\n",
              "      <td>0.04362</td>\n",
              "      <td>0.00000</td>\n",
              "      <td>0.00000</td>\n",
              "      <td>0.1587</td>\n",
              "      <td>0.05884</td>\n",
              "      <td>0.3857</td>\n",
              "      <td>1.4280</td>\n",
              "      <td>2.548</td>\n",
              "      <td>19.15</td>\n",
              "      <td>0.007189</td>\n",
              "      <td>0.00466</td>\n",
              "      <td>0.00000</td>\n",
              "      <td>0.00000</td>\n",
              "      <td>0.02676</td>\n",
              "      <td>0.002783</td>\n",
              "      <td>9.456</td>\n",
              "      <td>30.37</td>\n",
              "      <td>59.16</td>\n",
              "      <td>268.6</td>\n",
              "      <td>0.08996</td>\n",
              "      <td>0.06444</td>\n",
              "      <td>0.0000</td>\n",
              "      <td>0.0000</td>\n",
              "      <td>0.2871</td>\n",
              "      <td>0.07039</td>\n",
              "      <td>1</td>\n",
              "    </tr>\n",
              "  </tbody>\n",
              "</table>\n",
              "<p>569 rows × 31 columns</p>\n",
              "</div>\n",
              "      <button class=\"colab-df-convert\" onclick=\"convertToInteractive('df-57cfaa0b-2b8c-4ea2-9d07-bb48cb1f4d11')\"\n",
              "              title=\"Convert this dataframe to an interactive table.\"\n",
              "              style=\"display:none;\">\n",
              "        \n",
              "  <svg xmlns=\"http://www.w3.org/2000/svg\" height=\"24px\"viewBox=\"0 0 24 24\"\n",
              "       width=\"24px\">\n",
              "    <path d=\"M0 0h24v24H0V0z\" fill=\"none\"/>\n",
              "    <path d=\"M18.56 5.44l.94 2.06.94-2.06 2.06-.94-2.06-.94-.94-2.06-.94 2.06-2.06.94zm-11 1L8.5 8.5l.94-2.06 2.06-.94-2.06-.94L8.5 2.5l-.94 2.06-2.06.94zm10 10l.94 2.06.94-2.06 2.06-.94-2.06-.94-.94-2.06-.94 2.06-2.06.94z\"/><path d=\"M17.41 7.96l-1.37-1.37c-.4-.4-.92-.59-1.43-.59-.52 0-1.04.2-1.43.59L10.3 9.45l-7.72 7.72c-.78.78-.78 2.05 0 2.83L4 21.41c.39.39.9.59 1.41.59.51 0 1.02-.2 1.41-.59l7.78-7.78 2.81-2.81c.8-.78.8-2.07 0-2.86zM5.41 20L4 18.59l7.72-7.72 1.47 1.35L5.41 20z\"/>\n",
              "  </svg>\n",
              "      </button>\n",
              "      \n",
              "  <style>\n",
              "    .colab-df-container {\n",
              "      display:flex;\n",
              "      flex-wrap:wrap;\n",
              "      gap: 12px;\n",
              "    }\n",
              "\n",
              "    .colab-df-convert {\n",
              "      background-color: #E8F0FE;\n",
              "      border: none;\n",
              "      border-radius: 50%;\n",
              "      cursor: pointer;\n",
              "      display: none;\n",
              "      fill: #1967D2;\n",
              "      height: 32px;\n",
              "      padding: 0 0 0 0;\n",
              "      width: 32px;\n",
              "    }\n",
              "\n",
              "    .colab-df-convert:hover {\n",
              "      background-color: #E2EBFA;\n",
              "      box-shadow: 0px 1px 2px rgba(60, 64, 67, 0.3), 0px 1px 3px 1px rgba(60, 64, 67, 0.15);\n",
              "      fill: #174EA6;\n",
              "    }\n",
              "\n",
              "    [theme=dark] .colab-df-convert {\n",
              "      background-color: #3B4455;\n",
              "      fill: #D2E3FC;\n",
              "    }\n",
              "\n",
              "    [theme=dark] .colab-df-convert:hover {\n",
              "      background-color: #434B5C;\n",
              "      box-shadow: 0px 1px 3px 1px rgba(0, 0, 0, 0.15);\n",
              "      filter: drop-shadow(0px 1px 2px rgba(0, 0, 0, 0.3));\n",
              "      fill: #FFFFFF;\n",
              "    }\n",
              "  </style>\n",
              "\n",
              "      <script>\n",
              "        const buttonEl =\n",
              "          document.querySelector('#df-57cfaa0b-2b8c-4ea2-9d07-bb48cb1f4d11 button.colab-df-convert');\n",
              "        buttonEl.style.display =\n",
              "          google.colab.kernel.accessAllowed ? 'block' : 'none';\n",
              "\n",
              "        async function convertToInteractive(key) {\n",
              "          const element = document.querySelector('#df-57cfaa0b-2b8c-4ea2-9d07-bb48cb1f4d11');\n",
              "          const dataTable =\n",
              "            await google.colab.kernel.invokeFunction('convertToInteractive',\n",
              "                                                     [key], {});\n",
              "          if (!dataTable) return;\n",
              "\n",
              "          const docLinkHtml = 'Like what you see? Visit the ' +\n",
              "            '<a target=\"_blank\" href=https://colab.research.google.com/notebooks/data_table.ipynb>data table notebook</a>'\n",
              "            + ' to learn more about interactive tables.';\n",
              "          element.innerHTML = '';\n",
              "          dataTable['output_type'] = 'display_data';\n",
              "          await google.colab.output.renderOutput(dataTable, element);\n",
              "          const docLink = document.createElement('div');\n",
              "          docLink.innerHTML = docLinkHtml;\n",
              "          element.appendChild(docLink);\n",
              "        }\n",
              "      </script>\n",
              "    </div>\n",
              "  </div>\n",
              "  "
            ],
            "text/plain": [
              "     mean radius  mean texture  ...  worst fractal dimension  target\n",
              "0          17.99         10.38  ...                  0.11890       0\n",
              "1          20.57         17.77  ...                  0.08902       0\n",
              "2          19.69         21.25  ...                  0.08758       0\n",
              "3          11.42         20.38  ...                  0.17300       0\n",
              "4          20.29         14.34  ...                  0.07678       0\n",
              "..           ...           ...  ...                      ...     ...\n",
              "564        21.56         22.39  ...                  0.07115       0\n",
              "565        20.13         28.25  ...                  0.06637       0\n",
              "566        16.60         28.08  ...                  0.07820       0\n",
              "567        20.60         29.33  ...                  0.12400       0\n",
              "568         7.76         24.54  ...                  0.07039       1\n",
              "\n",
              "[569 rows x 31 columns]"
            ]
          },
          "metadata": {},
          "execution_count": 64
        }
      ]
    },
    {
      "cell_type": "markdown",
      "metadata": {
        "id": "YyqBEQXGq-B0"
      },
      "source": [
        "### Splitting the data"
      ]
    },
    {
      "cell_type": "code",
      "metadata": {
        "id": "A5equ6ied8eg",
        "colab": {
          "base_uri": "https://localhost:8080/"
        },
        "outputId": "9b6ae42b-874d-46b9-f45a-78df65bc4c3e"
      },
      "source": [
        "#Splitting into train and test set\n",
        "from sklearn.model_selection import train_test_split\n",
        "x, y = dataset.data, dataset.target\n",
        "x_train, x_test, y_train, y_test = train_test_split(x,y,test_size = 0.3,random_state=0)\n",
        "# train[\"target\"] = train[\"target\"].map({dataset.target_names[0]:0,dataset.target_names[1]:1})\n",
        "print(x_train)\n",
        "print(y_train)"
      ],
      "execution_count": null,
      "outputs": [
        {
          "output_type": "stream",
          "name": "stdout",
          "text": [
            "[[1.149e+01 1.459e+01 7.399e+01 ... 7.431e-02 2.941e-01 9.180e-02]\n",
            " [1.049e+01 1.861e+01 6.686e+01 ... 6.528e-02 2.213e-01 7.842e-02]\n",
            " [1.225e+01 1.794e+01 7.827e+01 ... 8.211e-02 3.113e-01 8.132e-02]\n",
            " ...\n",
            " [9.436e+00 1.832e+01 5.982e+01 ... 5.052e-02 2.454e-01 8.136e-02]\n",
            " [9.720e+00 1.822e+01 6.073e+01 ... 0.000e+00 1.909e-01 6.559e-02]\n",
            " [1.151e+01 2.393e+01 7.452e+01 ... 9.653e-02 2.112e-01 8.732e-02]]\n",
            "[1 1 1 0 1 1 1 1 0 0 1 1 0 1 1 1 1 0 1 1 0 0 1 1 0 0 1 1 0 1 1 0 0 0 1 1 1\n",
            " 0 1 1 1 1 1 0 1 0 1 0 1 0 1 0 1 1 1 1 0 1 0 1 1 1 0 1 1 1 0 1 1 0 0 1 0 1\n",
            " 0 1 0 0 0 0 1 0 1 0 1 0 1 0 1 1 0 1 1 1 1 1 1 1 1 1 1 1 1 1 0 1 1 1 0 1 1\n",
            " 1 1 1 1 0 1 0 1 1 0 1 0 0 1 0 0 1 1 0 1 1 1 0 1 1 1 1 1 0 0 1 1 1 1 0 0 1\n",
            " 1 1 1 0 1 1 0 1 1 0 1 0 1 1 1 1 0 0 0 0 1 0 1 0 0 1 1 1 1 1 0 1 1 0 1 1 0\n",
            " 0 1 1 1 0 0 1 1 0 1 1 1 0 1 0 1 0 0 0 0 1 1 1 1 0 0 1 1 1 1 1 0 1 1 0 1 1\n",
            " 0 0 0 0 1 1 0 1 1 1 0 0 1 1 1 1 1 0 0 0 1 0 0 1 1 1 1 1 1 0 1 1 1 1 1 1 0\n",
            " 0 1 0 1 0 0 1 1 1 1 1 0 0 0 1 1 0 0 1 1 0 1 0 0 1 0 1 1 1 1 1 1 1 0 0 1 1\n",
            " 1 0 1 1 1 1 0 1 0 0 0 1 0 1 0 1 0 0 1 1 1 1 1 1 1 1 0 0 0 0 0 1 1 1 1 1 1\n",
            " 1 0 1 0 1 1 1 1 1 0 0 0 1 0 1 1 0 0 0 0 1 0 0 0 1 0 1 0 1 1 0 0 1 0 1 1 1\n",
            " 1 0 1 1 0 1 1 1 0 0 1 1 1 0 1 1 0 1 1 1 1 1 0 0 0 1 1 1]\n"
          ]
        }
      ]
    },
    {
      "cell_type": "markdown",
      "metadata": {
        "id": "U_jNtkfce9Eg"
      },
      "source": [
        "### Effect of Standardization (Visual)"
      ]
    },
    {
      "cell_type": "code",
      "metadata": {
        "id": "J684emSV8mJd",
        "colab": {
          "base_uri": "https://localhost:8080/",
          "height": 386
        },
        "outputId": "cb99cfd0-1191-485d-e823-52e4753327f2"
      },
      "source": [
        "import seaborn\n",
        "seaborn.lmplot(x=\"worst smoothness\",y = \"worst fractal dimension\",data=df,hue=\"target\")"
      ],
      "execution_count": null,
      "outputs": [
        {
          "output_type": "execute_result",
          "data": {
            "text/plain": [
              "<seaborn.axisgrid.FacetGrid at 0x7fb037a2cb10>"
            ]
          },
          "metadata": {},
          "execution_count": 66
        },
        {
          "output_type": "display_data",
          "data": {
            "image/png": "[encoded data removed]",
            "text/plain": [
              "<Figure size 402.375x360 with 1 Axes>"
            ]
          },
          "metadata": {
            "needs_background": "light"
          }
        }
      ]
    },
    {
      "cell_type": "code",
      "source": [
        "df['worst smoothness'].mean(),df['worst fractal dimension'].mean()"
      ],
      "metadata": {
        "colab": {
          "base_uri": "https://localhost:8080/"
        },
        "id": "SdrsclTKIY9D",
        "outputId": "0fccfa65-b373-4797-9b90-716bda43a829"
      },
      "execution_count": null,
      "outputs": [
        {
          "output_type": "execute_result",
          "data": {
            "text/plain": [
              "(0.13236859402460469, 0.08394581722319855)"
            ]
          },
          "metadata": {},
          "execution_count": 67
        }
      ]
    },
    {
      "cell_type": "code",
      "source": [
        "from sklearn.preprocessing import StandardScaler\n",
        "import numpy as np\n",
        "\n",
        "scale= StandardScaler()\n",
        "\n",
        "scale.fit(df)\n",
        "train_norm = scale.transform(df)\n",
        "train_norm\n",
        "col = np.append(dataset.feature_names,values=\"target\")\n",
        "df_train_normalized = pd.DataFrame(train_norm, columns=col)\n",
        "df_train_normalized\n",
        "\n",
        "seaborn.lmplot(x=\"worst smoothness\",y = \"worst fractal dimension\",data=df_train_normalized,hue=\"target\")\n"
      ],
      "metadata": {
        "colab": {
          "base_uri": "https://localhost:8080/",
          "height": 386
        },
        "id": "xQdzGN87P4Hv",
        "outputId": "d2be377c-864e-4a4a-8d39-9cb85834d23e"
      },
      "execution_count": null,
      "outputs": [
        {
          "output_type": "execute_result",
          "data": {
            "text/plain": [
              "<seaborn.axisgrid.FacetGrid at 0x7fb03796a6d0>"
            ]
          },
          "metadata": {},
          "execution_count": 68
        },
        {
          "output_type": "display_data",
          "data": {
            "image/png": "[encoded data removed]",
            "text/plain": [
              "<Figure size 510.875x360 with 1 Axes>"
            ]
          },
          "metadata": {
            "needs_background": "light"
          }
        }
      ]
    },
    {
      "cell_type": "code",
      "source": [
        "df_train_normalized['worst smoothness'].mean(),df_train_normalized['worst fractal dimension'].mean(),df_train_normalized.std()"
      ],
      "metadata": {
        "colab": {
          "base_uri": "https://localhost:8080/"
        },
        "id": "9dV14MB7IOkp",
        "outputId": "803e8a0f-bef4-4f08-c795-a83fde8d50f4"
      },
      "execution_count": null,
      "outputs": [
        {
          "output_type": "execute_result",
          "data": {
            "text/plain": [
              "(-2.2516649743715826e-16,\n",
              " -6.436952123441813e-16,\n",
              " mean radius                1.00088\n",
              " mean texture               1.00088\n",
              " mean perimeter             1.00088\n",
              " mean area                  1.00088\n",
              " mean smoothness            1.00088\n",
              " mean compactness           1.00088\n",
              " mean concavity             1.00088\n",
              " mean concave points        1.00088\n",
              " mean symmetry              1.00088\n",
              " mean fractal dimension     1.00088\n",
              " radius error               1.00088\n",
              " texture error              1.00088\n",
              " perimeter error            1.00088\n",
              " area error                 1.00088\n",
              " smoothness error           1.00088\n",
              " compactness error          1.00088\n",
              " concavity error            1.00088\n",
              " concave points error       1.00088\n",
              " symmetry error             1.00088\n",
              " fractal dimension error    1.00088\n",
              " worst radius               1.00088\n",
              " worst texture              1.00088\n",
              " worst perimeter            1.00088\n",
              " worst area                 1.00088\n",
              " worst smoothness           1.00088\n",
              " worst compactness          1.00088\n",
              " worst concavity            1.00088\n",
              " worst concave points       1.00088\n",
              " worst symmetry             1.00088\n",
              " worst fractal dimension    1.00088\n",
              " target                     1.00088\n",
              " dtype: float64)"
            ]
          },
          "metadata": {},
          "execution_count": 69
        }
      ]
    },
    {
      "cell_type": "markdown",
      "metadata": {
        "id": "aBmo0-W1yZFs"
      },
      "source": [
        "## Part 2: KNN Classifier without Standardization"
      ]
    },
    {
      "cell_type": "code",
      "metadata": {
        "id": "cyEV-mVSAMaV",
        "colab": {
          "base_uri": "https://localhost:8080/",
          "height": 367
        },
        "outputId": "fa3ded8c-a4fd-408d-c532-4caaccc26d23"
      },
      "source": [
        "from sklearn.neighbors import KNeighborsClassifier\n",
        "from sklearn.model_selection import cross_val_score\n",
        "import matplotlib.pyplot as plt \n",
        "import numpy as np\n",
        "\n",
        "k_all_scores = []\n",
        "k_values = range(1, 100)\n",
        "for k in k_values:\n",
        "    knn = KNeighborsClassifier(n_neighbors=k)\n",
        "    scores = cross_val_score(knn, x_train, y_train, cv=5, scoring='accuracy')\n",
        "    k_all_scores.append(scores.mean())\n",
        "\n",
        "print(\"k_all_scores-->\",k_all_scores)\n",
        "plt.plot(k_values, k_all_scores)\n",
        "plt.xlabel('Value of K')\n",
        "plt.ylabel('Cross Validation Accuracy')\n",
        "max_accuracy = max(k_all_scores)\n",
        "k_max_value_pos = k_all_scores.index(max_accuracy)\n",
        "k_max = k_all_scores[k_max_value_pos] \n",
        "print(\"Ideal K value = \",k_max_value_pos)\n",
        "print(\"Maximum Accuracy = \",k_max)\n",
        "plt.title(\"Mean cross-validation accuracy vs k\")\n",
        "plt.show()\n",
        "\n"
      ],
      "execution_count": null,
      "outputs": [
        {
          "output_type": "stream",
          "name": "stdout",
          "text": [
            "k_all_scores--> [0.9171202531645569, 0.9170886075949367, 0.9272151898734178, 0.927120253164557, 0.919620253164557, 0.9246518987341773, 0.9321518987341773, 0.9321518987341773, 0.9246202531645569, 0.9346518987341772, 0.9346518987341772, 0.9321202531645569, 0.9221518987341772, 0.9296835443037976, 0.9221518987341772, 0.9246202531645569, 0.9120569620253164, 0.9195886075949368, 0.9120886075949368, 0.9145886075949367, 0.9070253164556963, 0.9095253164556961, 0.9070569620253165, 0.9070253164556961, 0.9045253164556962, 0.9095569620253163, 0.9095569620253163, 0.9095569620253163, 0.9095569620253163, 0.9095569620253163, 0.9045569620253164, 0.9070569620253165, 0.9070569620253165, 0.9095569620253166, 0.9095569620253166, 0.9070569620253164, 0.9070569620253165, 0.9095569620253166, 0.9095569620253166, 0.9095569620253166, 0.9070569620253165, 0.9095569620253166, 0.9095569620253166, 0.9095569620253166, 0.9020569620253165, 0.9070569620253165, 0.9020253164556962, 0.9095569620253166, 0.9045569620253164, 0.9070569620253164, 0.9070886075949367, 0.9070569620253165, 0.9020253164556962, 0.9020253164556962, 0.9020253164556962, 0.9020253164556962, 0.9020569620253165, 0.9020253164556962, 0.9045569620253164, 0.9045569620253164, 0.9020569620253165, 0.9020253164556962, 0.9045569620253164, 0.9045569620253164, 0.9020253164556962, 0.9045569620253164, 0.9045569620253164, 0.9045569620253164, 0.9020253164556962, 0.9045569620253164, 0.9020253164556962, 0.9020253164556962, 0.8994936708860759, 0.8994936708860759, 0.8994936708860759, 0.8994936708860759, 0.9020253164556962, 0.9020253164556962, 0.8944936708860759, 0.896993670886076, 0.896993670886076, 0.896993670886076, 0.8944936708860759, 0.896993670886076, 0.8919620253164556, 0.896993670886076, 0.8919620253164556, 0.8944620253164557, 0.8919620253164556, 0.8944620253164557, 0.8919620253164556, 0.8944620253164557, 0.8944620253164557, 0.8944620253164557, 0.8894620253164556, 0.8944620253164557, 0.8869303797468355, 0.8869303797468355, 0.8869303797468355]\n",
            "Ideal K value =  9\n",
            "Maximum Accuracy =  0.9346518987341772\n"
          ]
        },
        {
          "output_type": "display_data",
          "data": {
            "image/png": "[encoded data removed]",
            "text/plain": [
              "<Figure size 432x288 with 1 Axes>"
            ]
          },
          "metadata": {
            "needs_background": "light"
          }
        }
      ]
    },
    {
      "cell_type": "markdown",
      "source": [
        "**Ideal K value =  9  \n",
        "Maximum Accuracy =  0.9346518987341772**"
      ],
      "metadata": {
        "id": "gRXXTSV45MRR"
      }
    },
    {
      "cell_type": "code",
      "source": [
        "from sklearn.neighbors import KNeighborsClassifier\n",
        "from sklearn.model_selection import cross_val_score\n",
        "from sklearn.model_selection import cross_validate\n",
        "import matplotlib.pyplot as plt \n",
        "import numpy as np\n",
        "\n",
        "training_acc = []\n",
        "validation_acc = []\n",
        "k_values = range(1, 100)\n",
        "for k in k_values:\n",
        "    knn = KNeighborsClassifier(n_neighbors=k)\n",
        "    scores = cross_validate(knn, x_train, y_train, cv=5, scoring='accuracy', return_train_score=True)\n",
        "    training_acc.append(scores['train_score'].mean())\n",
        "    validation_acc.append(scores['test_score'].mean())\n",
        "\n",
        "plt.plot(k_values, training_acc,label = 'Training Curve')\n",
        "plt.plot(k_values, validation_acc,label = 'Validation Curve')\n",
        "plt.xlabel('Value of K')\n",
        "plt.ylabel('Accuracy')\n",
        "plt.legend()\n",
        "plt.show()\n",
        "\n"
      ],
      "metadata": {
        "colab": {
          "base_uri": "https://localhost:8080/",
          "height": 279
        },
        "id": "3MGXAB7AUCc7",
        "outputId": "a432b556-73e1-4e8f-87f6-50f2bbd1e77f"
      },
      "execution_count": null,
      "outputs": [
        {
          "output_type": "display_data",
          "data": {
            "image/png": "[encoded data removed]",
            "text/plain": [
              "<Figure size 432x288 with 1 Axes>"
            ]
          },
          "metadata": {
            "needs_background": "light"
          }
        }
      ]
    },
    {
      "cell_type": "markdown",
      "source": [
        "From the graph above, we can see that the model is overfitted for range of k = 1 to approximately k =5, where we can find there is a big difference between the training and validation set accuracy. \n",
        "Also we can see that the there is a gradual decrease in the accuracy after k = 60 , which can be termed as underfitting since the accuracy drops below 90 %.  \n",
        "The best fit can be found in the ranges of k = 8 to k = 12 , where the error is minimal between the testing and validation set.\n"
      ],
      "metadata": {
        "id": "9OKTIBZX3-aY"
      }
    },
    {
      "cell_type": "markdown",
      "metadata": {
        "id": "VCyFm5S3srCO"
      },
      "source": [
        "## Part 3: Feature Selection"
      ]
    },
    {
      "cell_type": "code",
      "source": [
        "# function for knn classifier\n",
        "def knn_function(x_train,y_train=y_train):\n",
        "  k_all_scores = []\n",
        "  k_values = range(1, 100)\n",
        "  for k in k_values:\n",
        "    knn = KNeighborsClassifier(n_neighbors=k)\n",
        "    scores = cross_val_score(knn, x_train, y_train, cv=5, scoring='accuracy')\n",
        "    k_all_scores.append(scores.mean())\n",
        "  max_accuracy = max(k_all_scores)\n",
        "  k_max_value_pos = k_all_scores.index(max_accuracy)\n",
        "  k_max = k_all_scores[k_max_value_pos] \n",
        "\n",
        "  return k_max,k_max_value_pos\n",
        "\n",
        "  "
      ],
      "metadata": {
        "id": "hlS_yQZ7VC9Y"
      },
      "execution_count": null,
      "outputs": []
    },
    {
      "cell_type": "markdown",
      "source": [
        "Decision Tree Classifier"
      ],
      "metadata": {
        "id": "nVFRXgqW7vFf"
      }
    },
    {
      "cell_type": "code",
      "metadata": {
        "id": "oiFUWWnE0QVc"
      },
      "source": [
        "from sklearn.tree import DecisionTreeClassifier\n",
        "from sklearn.model_selection import cross_val_score\n",
        "def Feature_selector (x_train , y_train , tr=0.95):\n",
        "  features_removed = []\n",
        "  accuracy_after_each_feature_removed = []\n",
        "  k_after_each_feature_removed = []\n",
        "  acc_of_original_dataset = 0.9346518987341772\n",
        "  accuracy = 100.0\n",
        "  features = np.array(dataset.feature_names)\n",
        "  dt = DecisionTreeClassifier(random_state=0)\n",
        "  dt.fit(x_train,y_train)\n",
        "  no_of_features = len(x_train[0])\n",
        "  importance = dt.feature_importances_\n",
        "  i=0\n",
        "  while(i<(no_of_features-1) and accuracy>(tr*acc_of_original_dataset)):\n",
        "    column_to_be_removed = np.where(importance == np.amin(importance))\n",
        "    importance = np.delete(importance,column_to_be_removed[0][0])\n",
        "    # print(\"column_to_be_removed--->\",column_to_be_removed[0][0])\n",
        "    # print(\"Before--->\",x_train.shape)\n",
        "    x_train = np.delete(x_train,column_to_be_removed[0][0],axis=1)\n",
        "    # print(\"After--->\",x_train.shape)\n",
        "    feature_to_be_removed = features[column_to_be_removed[0][0]]\n",
        "    # print(\"feature_to_be_removed--->\",feature_to_be_removed)\n",
        "    # print(\"Before--->\",len(features))\n",
        "    # print(features)\n",
        "    features = np.delete(features,column_to_be_removed[0][0])\n",
        "    # print(\"After--->\",len(features))\n",
        "    # print(features)\n",
        "    accuracy,k = knn_function(x_train)\n",
        "    # print(\"K--->\",k)\n",
        "    # print(\"Accuracy-->\",accuracy)\n",
        "    # print(\"-------------------------------------------------------------------------------\")\n",
        "    features_removed.append(feature_to_be_removed)\n",
        "    accuracy_after_each_feature_removed.append(accuracy)\n",
        "    k_after_each_feature_removed.append(k)\n",
        "    i=i+1\n",
        "\n",
        "  return features_removed,accuracy_after_each_feature_removed,k_after_each_feature_removed"
      ],
      "execution_count": null,
      "outputs": []
    },
    {
      "cell_type": "code",
      "source": [
        "result1,result2,result3 = Feature_selector(x_train,y_train)\n",
        "result1 = np.array(result1)\n",
        "result2 = np.array(result2)\n",
        "result3 = np.array(result3)\n",
        "# print(result1.shape,result2.shape,result3.shape)\n",
        "result1 = np.reshape(result1,(29,1))\n",
        "result2 = np.reshape(result2,(29,1))\n",
        "result3 = np.reshape(result3,(29,1))\n",
        "# print(result1.shape,result2.shape,result3.shape)"
      ],
      "metadata": {
        "id": "6hs55LvPV8gk"
      },
      "execution_count": null,
      "outputs": []
    },
    {
      "cell_type": "code",
      "source": [
        "np.concatenate((result1,result2,result3),axis=1)"
      ],
      "metadata": {
        "id": "t0FMQ09d7OGL",
        "colab": {
          "base_uri": "https://localhost:8080/"
        },
        "outputId": "6b8f0f91-d81c-43c7-facd-383cf8c9b75c"
      },
      "execution_count": null,
      "outputs": [
        {
          "output_type": "execute_result",
          "data": {
            "text/plain": [
              "array([['mean radius', '0.9346518987341772', '9'],\n",
              "       ['mean texture', '0.9346518987341772', '9'],\n",
              "       ['mean perimeter', '0.9321518987341773', '6'],\n",
              "       ['mean area', '0.9145886075949367', '33'],\n",
              "       ['mean smoothness', '0.9145886075949367', '33'],\n",
              "       ['mean compactness', '0.9145886075949367', '33'],\n",
              "       ['mean concave points', '0.9145886075949367', '33'],\n",
              "       ['mean fractal dimension', '0.9145886075949367', '33'],\n",
              "       ['radius error', '0.9145886075949367', '33'],\n",
              "       ['texture error', '0.9145886075949367', '33'],\n",
              "       ['perimeter error', '0.9145886075949367', '33'],\n",
              "       ['compactness error', '0.9145886075949367', '33'],\n",
              "       ['concavity error', '0.9145886075949367', '33'],\n",
              "       ['concave points error', '0.9145886075949367', '33'],\n",
              "       ['symmetry error', '0.9145886075949367', '33'],\n",
              "       ['worst radius', '0.9145886075949367', '33'],\n",
              "       ['worst perimeter', '0.9145569620253164', '60'],\n",
              "       ['worst compactness', '0.9145569620253164', '60'],\n",
              "       ['worst fractal dimension', '0.9145569620253164', '60'],\n",
              "       ['worst smoothness', '0.9145569620253164', '60'],\n",
              "       ['fractal dimension error', '0.9145569620253164', '60'],\n",
              "       ['worst concavity', '0.9145569620253164', '60'],\n",
              "       ['smoothness error', '0.9145569620253164', '60'],\n",
              "       ['mean symmetry', '0.9145569620253164', '60'],\n",
              "       ['mean concavity', '0.9145569620253164', '60'],\n",
              "       ['worst texture', '0.9145569620253164', '63'],\n",
              "       ['worst symmetry', '0.9145569620253164', '63'],\n",
              "       ['area error', '0.9145886075949367', '33'],\n",
              "       ['worst area', '0.9246202531645569', '33']], dtype='<U32')"
            ]
          },
          "metadata": {},
          "execution_count": 75
        }
      ]
    },
    {
      "cell_type": "code",
      "source": [
        "no_of_features_value = np.arange(30,1,-1)\n",
        "plt.plot(no_of_features_value, result2)\n",
        "plt.xlabel('No Of Features')\n",
        "plt.ylabel('CV Accuracy')\n",
        "plt.title(\"The mean cross-validation accuracy (with a tuned k on y axis) vs. the on the number of features (x axis).\")\n",
        "plt.show()"
      ],
      "metadata": {
        "id": "ZMRATFJYD8Ld",
        "colab": {
          "base_uri": "https://localhost:8080/",
          "height": 295
        },
        "outputId": "234e0ca3-73d1-4846-d263-b021daa8da15"
      },
      "execution_count": null,
      "outputs": [
        {
          "output_type": "display_data",
          "data": {
            "image/png": "[encoded data removed]",
            "text/plain": [
              "<Figure size 432x288 with 1 Axes>"
            ]
          },
          "metadata": {
            "needs_background": "light"
          }
        }
      ]
    },
    {
      "cell_type": "code",
      "source": [
        "no_of_features_value = np.arange(30,1,-1)\n",
        "plt.plot(no_of_features_value, result3)\n",
        "plt.xlabel('No Of Features')\n",
        "plt.ylabel('Value of K')\n",
        "plt.title('Best value of k (y-axis) vs. the number of features.')\n",
        "plt.show()"
      ],
      "metadata": {
        "colab": {
          "base_uri": "https://localhost:8080/",
          "height": 295
        },
        "id": "AEBbUIXLFlnz",
        "outputId": "30ccf2c7-dc7f-403f-812d-a92ebb03bbe0"
      },
      "execution_count": null,
      "outputs": [
        {
          "output_type": "display_data",
          "data": {
            "image/png": "[encoded data removed]",
            "text/plain": [
              "<Figure size 432x288 with 1 Axes>"
            ]
          },
          "metadata": {
            "needs_background": "light"
          }
        }
      ]
    },
    {
      "cell_type": "markdown",
      "source": [
        "29 can be considered as the best number of features since we can get maximum accuracy with it.  \n",
        "But it can still be argued that there is not too much of a difference with accuracy when we use only one feature as well.  \n",
        "But since we are focusing on getting the maximum accuracy, 29 is considered as best number of features for classification."
      ],
      "metadata": {
        "id": "f4XMr7Jd-q01"
      }
    },
    {
      "cell_type": "markdown",
      "metadata": {
        "id": "GTXjb1sWmDZL"
      },
      "source": [
        "## Part 4: Standardization"
      ]
    },
    {
      "cell_type": "code",
      "metadata": {
        "id": "xAwAGR6_2bu3"
      },
      "source": [
        "from sklearn import preprocessing\n",
        "scaler = preprocessing.StandardScaler()\n",
        "scaler.fit(x_train)\n",
        "x_train_scaled = scaler.transform(x_train)\n",
        "x_test_scaled = scaler.transform(x_test)\n",
        "\n",
        "y_train = np.reshape(y_train,(398,1))\n",
        "y_test = np.reshape(y_test,(171,1))\n",
        "scaler.fit(y_train)\n",
        "y_train_scaled = scaler.transform(y_train)\n",
        "y_test_scaled = scaler.transform(y_test)\n",
        "\n",
        "\n"
      ],
      "execution_count": null,
      "outputs": []
    },
    {
      "cell_type": "code",
      "source": [
        "result1_scaled,result2_scaled,result3_scaled = Feature_selector(x_train_scaled,y_train)"
      ],
      "metadata": {
        "id": "0YjR9n4mkKmh"
      },
      "execution_count": null,
      "outputs": []
    },
    {
      "cell_type": "code",
      "source": [
        "result1_scaled = np.reshape(result1_scaled,(29,1))\n",
        "result2_scaled = np.reshape(result2_scaled,(29,1))\n",
        "result3_scaled = np.reshape(result3_scaled,(29,1))"
      ],
      "metadata": {
        "id": "58-UoQxI7tgE"
      },
      "execution_count": null,
      "outputs": []
    },
    {
      "cell_type": "code",
      "source": [
        "np.concatenate((result1_scaled,result2_scaled,result3_scaled),axis=1)"
      ],
      "metadata": {
        "colab": {
          "base_uri": "https://localhost:8080/"
        },
        "id": "g6hpSr8snH-z",
        "outputId": "7a5d3e3a-c1e2-4655-96a9-68b26b072e77"
      },
      "execution_count": null,
      "outputs": [
        {
          "output_type": "execute_result",
          "data": {
            "text/plain": [
              "array([['mean radius', '0.9649683544303798', '7'],\n",
              "       ['mean texture', '0.9623417721518986', '3'],\n",
              "       ['mean perimeter', '0.9598417721518986', '7'],\n",
              "       ['mean area', '0.9598417721518988', '7'],\n",
              "       ['mean smoothness', '0.9572468354430381', '4'],\n",
              "       ['mean compactness', '0.9623417721518986', '6'],\n",
              "       ['mean concave points', '0.9598101265822784', '7'],\n",
              "       ['mean fractal dimension', '0.9598417721518986', '7'],\n",
              "       ['radius error', '0.9573417721518988', '7'],\n",
              "       ['texture error', '0.9598101265822784', '5'],\n",
              "       ['perimeter error', '0.9599050632911392', '11'],\n",
              "       ['compactness error', '0.9623101265822784', '3'],\n",
              "       ['concavity error', '0.9598101265822784', '2'],\n",
              "       ['concave points error', '0.9648417721518987', '3'],\n",
              "       ['symmetry error', '0.9674050632911392', '5'],\n",
              "       ['worst radius', '0.9623101265822784', '2'],\n",
              "       ['worst perimeter', '0.9547151898734179', '2'],\n",
              "       ['worst compactness', '0.952246835443038', '3'],\n",
              "       ['worst fractal dimension', '0.9598101265822784', '5'],\n",
              "       ['worst smoothness', '0.9573101265822783', '5'],\n",
              "       ['fractal dimension error', '0.957373417721519', '11'],\n",
              "       ['worst concavity', '0.9549050632911392', '19'],\n",
              "       ['smoothness error', '0.9599050632911392', '5'],\n",
              "       ['mean symmetry', '0.9674367088607594', '3'],\n",
              "       ['mean concavity', '0.967373417721519', '5'],\n",
              "       ['worst texture', '0.9573101265822783', '2'],\n",
              "       ['worst symmetry', '0.9572784810126581', '4'],\n",
              "       ['area error', '0.9496518987341773', '5'],\n",
              "       ['worst area', '0.9246202531645569', '33']], dtype='<U32')"
            ]
          },
          "metadata": {},
          "execution_count": 81
        }
      ]
    },
    {
      "cell_type": "code",
      "source": [
        "no_of_features_value = np.arange(30,1,-1)\n",
        "plt.xlim(0, 60)\n",
        "plt.ylim(0.91, 0.97)\n",
        "plt.plot(no_of_features_value, result2_scaled,label = \"Standardized data\")\n",
        "plt.plot(no_of_features_value, result2,label = \"Original data\")\n",
        "plt.xlabel('Number Of Features')\n",
        "plt.ylabel('CV Accuracy')\n",
        "plt.title('Accuracy Vs Number of features in Original data and standardized data')\n",
        "plt.legend()\n",
        "plt.show()"
      ],
      "metadata": {
        "colab": {
          "base_uri": "https://localhost:8080/",
          "height": 295
        },
        "id": "pSGsp503kipT",
        "outputId": "c9d4c7c1-bb6b-42c4-e822-926d64391709"
      },
      "execution_count": null,
      "outputs": [
        {
          "output_type": "display_data",
          "data": {
            "image/png": "[encoded data removed]",
            "text/plain": [
              "<Figure size 432x288 with 1 Axes>"
            ]
          },
          "metadata": {
            "needs_background": "light"
          }
        }
      ]
    },
    {
      "cell_type": "markdown",
      "source": [
        "With standardizing the data, our model was able to given better results with significant improvement in the accuracy.  \n",
        " Max Accuracacy --> 0.9674367088607594  \n",
        " Number of features --> 4  \n",
        " K --> 3   \n",
        " Features were --> 'mean concavity', 'worst texture', 'worst symmetry', 'area error', 'worst area'.\n",
        "\n"
      ],
      "metadata": {
        "id": "lStHcwWd_ZY5"
      }
    },
    {
      "cell_type": "markdown",
      "source": [
        "## Part 5: Decision Tree Classifier"
      ],
      "metadata": {
        "id": "HdmuHF4kGH5M"
      }
    },
    {
      "cell_type": "code",
      "source": [
        "from sklearn.tree import DecisionTreeClassifier\n",
        "from sklearn.model_selection import cross_val_score\n",
        "from sklearn.model_selection import GridSearchCV"
      ],
      "metadata": {
        "id": "laYRhTK4Kytl"
      },
      "execution_count": null,
      "outputs": []
    },
    {
      "cell_type": "code",
      "source": [
        "all_scores = []\n",
        "depth_value = []\n",
        "split_value = []\n",
        "d_range = range(1,16)\n",
        "split_range = range(2,16)\n",
        "for depth in d_range:\n",
        "  for split in split_range:\n",
        "    dt = DecisionTreeClassifier(criterion='gini', splitter='best', max_depth=depth, min_samples_split=split,random_state= 0)\n",
        "    scores = cross_val_score(dt, x_train_scaled, y_train, cv=5, scoring='accuracy')\n",
        "    all_scores.append(scores.mean())\n",
        "    depth_value.append(depth)\n",
        "    split_value.append(split)\n",
        "\n"
      ],
      "metadata": {
        "id": "I9YpYfA0Ol6n"
      },
      "execution_count": null,
      "outputs": []
    },
    {
      "cell_type": "code",
      "source": [
        "print(\"Max Accuracy-->\",all_scores[all_scores.index(max(all_scores))])\n",
        "print(\"Max Depth-->\",depth_value[all_scores.index(max(all_scores))])\n",
        "print(\"Min Sample Split\",split_value[all_scores.index(max(all_scores))])\n",
        "\n",
        "\n"
      ],
      "metadata": {
        "colab": {
          "base_uri": "https://localhost:8080/"
        },
        "id": "ntqZCnsdP6KU",
        "outputId": "ffffb712-ba97-4a78-a0d8-f1d86bb88b24"
      },
      "execution_count": null,
      "outputs": [
        {
          "output_type": "stream",
          "name": "stdout",
          "text": [
            "Max Accuracy--> 0.9321518987341773\n",
            "Max Depth--> 5\n",
            "Min Sample Split 8\n"
          ]
        }
      ]
    },
    {
      "cell_type": "markdown",
      "source": [
        "![Screenshot 2022-02-04 140136.png](data:image/png;base64,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)  \n",
        "\n",
        "From this it is clear that KNN performs better than Decision Tree."
      ],
      "metadata": {
        "id": "NGKSFUruFYPe"
      }
    },
    {
      "cell_type": "markdown",
      "metadata": {
        "id": "k7QjKjHn2TZR"
      },
      "source": [
        "## Part 6: Test Data [0.5 Mark]"
      ]
    },
    {
      "cell_type": "code",
      "metadata": {
        "id": "acdJ7EijBYqB",
        "colab": {
          "base_uri": "https://localhost:8080/"
        },
        "outputId": "59927e2d-4fc2-4d76-c570-1bf3129674a3"
      },
      "source": [
        "import sklearn.metrics as metrics\n",
        "\n",
        "knn = KNeighborsClassifier(n_neighbors=9)\n",
        "knn.fit(x_train_scaled, y_train)\n",
        "y_pred = knn.predict(x_test_scaled)\n",
        "y_pred = np.reshape(y_pred,(171,1))\n",
        "print(metrics.accuracy_score(y_test, y_pred))"
      ],
      "execution_count": null,
      "outputs": [
        {
          "output_type": "stream",
          "name": "stdout",
          "text": [
            "0.9649122807017544\n"
          ]
        },
        {
          "output_type": "stream",
          "name": "stderr",
          "text": [
            "/usr/local/lib/python3.7/dist-packages/sklearn/neighbors/_classification.py:198: DataConversionWarning: A column-vector y was passed when a 1d array was expected. Please change the shape of y to (n_samples,), for example using ravel().\n",
            "  return self._fit(X, y)\n"
          ]
        }
      ]
    },
    {
      "cell_type": "markdown",
      "source": [
        "Accuracy for Test data is **0.9649122807017544**.  \n",
        "So for the graphs and results above, we can see that KNN works best for the standardized data producing accuracy of over 96%.  \n",
        "But without standardization i.e if we try to test the model on the non standardized test set, we're getting an accuracy of less than 40%.  Thus standardization is important part of preprocessing for the model to obtain a higher accuracy for unknown data."
      ],
      "metadata": {
        "id": "k8Wapzgq_B7H"
      }
    }
  ]
}